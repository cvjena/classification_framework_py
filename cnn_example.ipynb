{
 "cells": [
  {
   "cell_type": "code",
   "execution_count": null,
   "metadata": {
    "collapsed": false
   },
   "outputs": [],
   "source": [
    "%load_ext autoreload\n",
    "%autoreload 2\n",
    "import numpy as np\n",
    "import sys\n",
    "sys.path.append('/home/simon/Research/lib/caffe.py3-2/python/')\n",
    "import caffe\n",
    "caffe.set_device(0)\n",
    "caffe.set_mode_gpu()\n",
    "import Caffe\n",
    "import Resize\n",
    "import Pad\n",
    "import PIL\n",
    "import Classification\n",
    "import glob\n",
    "\n",
    "import matplotlib\n",
    "%matplotlib inline  \n",
    "import matplotlib.pyplot as plt\n",
    "import Dataset\n",
    "import Evaluation\n",
    "import ImageReader\n",
    "import Crop\n",
    "import MulticlassSVM\n",
    "import Classificator\n",
    "import sklearn\n",
    "import Lambda"
   ]
  },
  {
   "cell_type": "code",
   "execution_count": null,
   "metadata": {
    "collapsed": false
   },
   "outputs": [],
   "source": [
    "!pwd"
   ]
  },
  {
   "cell_type": "code",
   "execution_count": null,
   "metadata": {
    "collapsed": false
   },
   "outputs": [],
   "source": [
    "basedir = '/home/simon/Datasets/CUB_200_2011/'\n",
    "d = Dataset.Dataset()\n",
    "d.read_from_file('%s/imagelist_absolute.txt'%basedir, 'imagepaths','string')\n",
    "d.read_from_file('%s/labels.txt'%basedir,'labels','int')\n",
    "d.read_from_file('%s/tr_ID.txt'%basedir,'split_assignments','int')"
   ]
  },
  {
   "cell_type": "code",
   "execution_count": null,
   "metadata": {
    "collapsed": false
   },
   "outputs": [],
   "source": [
    "c = Classification.Classification()\n",
    "c.add_algorithm(ImageReader.ImageReader())\n",
    "c.add_algorithm(Resize.Resize((512,512), mode='stretch'))\n",
    "c.add_algorithm(Crop.Crop((448,448),'center'))\n",
    "#c.add_algorithm(Pad.Pad(470,470))\n",
    "#modeldir = '/home/simon/Data/caffe/vgg16/cub200_bilinear/'\n",
    "#modeldir = '/home/simon/Research/generic/results/2016-07-01_cnn_imagenet_training/alexnet-visualization-nofc/alexnet_vis_nofc_imagenet/'\n",
    "modeldir = '/home/simon/Data/caffe/caffe/bilinear'\n",
    "c.add_algorithm(Caffe.Caffe(modeldir + '/deploy.prototxt',\n",
    "                           modeldir + '/model',\n",
    "                           mean = np.float32([104.0, 116.0, 122.0]),\n",
    "                           outblob = 'bilinear_l2',\n",
    "                           batchsize = 10))\n",
    "#c.add_algorithm(Lambda.Lambda(lambda x: x.sum(axis=(1,2))))\n",
    "c.add_algorithm(Classificator.Classificator(sklearn.svm.LinearSVC(C=1)))\n",
    "#c.add_algorithm(Classificator.Classificator(sklearn.svm.SVC(C=1.0, kernel='poly', degree=2)))"
   ]
  },
  {
   "cell_type": "code",
   "execution_count": null,
   "metadata": {
    "collapsed": false,
    "scrolled": false
   },
   "outputs": [],
   "source": [
    "ev = Evaluation.Evaluation()\n",
    "ev.fixed_split_eval(d, c)"
   ]
  },
  {
   "cell_type": "code",
   "execution_count": null,
   "metadata": {
    "collapsed": true
   },
   "outputs": [],
   "source": []
  },
  {
   "cell_type": "code",
   "execution_count": null,
   "metadata": {
    "collapsed": true
   },
   "outputs": [],
   "source": []
  },
  {
   "cell_type": "code",
   "execution_count": null,
   "metadata": {
    "collapsed": false
   },
   "outputs": [],
   "source": [
    "test_images = [im for im,split in zip(d.imagepaths,d.split_assignments) if split==0]\n",
    "test_labels = [label for label,split in zip(d.labels,d.split_assignments) if split==0]"
   ]
  },
  {
   "cell_type": "code",
   "execution_count": null,
   "metadata": {
    "collapsed": true
   },
   "outputs": [],
   "source": [
    "predictions = c.compute_all(test_images)"
   ]
  },
  {
   "cell_type": "code",
   "execution_count": null,
   "metadata": {
    "collapsed": false
   },
   "outputs": [],
   "source": [
    "np.savetxt('/home/simon/Research/finegrained/results/2016-09-02_single_pose_dataset/cub200_2011/vgg16_bilinear_pred/results.txt',np.vstack(predictions).astype(int),fmt='%i')"
   ]
  },
  {
   "cell_type": "code",
   "execution_count": null,
   "metadata": {
    "collapsed": true
   },
   "outputs": [],
   "source": []
  }
 ],
 "metadata": {
  "anaconda-cloud": {},
  "kernelspec": {
   "display_name": "Python [default]",
   "language": "python",
   "name": "python3"
  },
  "language_info": {
   "codemirror_mode": {
    "name": "ipython",
    "version": 3
   },
   "file_extension": ".py",
   "mimetype": "text/x-python",
   "name": "python",
   "nbconvert_exporter": "python",
   "pygments_lexer": "ipython3",
   "version": "3.5.2"
  }
 },
 "nbformat": 4,
 "nbformat_minor": 0
}
