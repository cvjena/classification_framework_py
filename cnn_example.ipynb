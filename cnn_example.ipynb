{
 "cells": [
  {
   "cell_type": "code",
   "execution_count": null,
   "metadata": {
    "collapsed": false
   },
   "outputs": [],
   "source": [
    "%load_ext autoreload\n",
    "%autoreload 2\n",
    "import numpy as np\n",
    "import sys\n",
    "sys.path.append('/home/simon/Research/lib/caffe.py3/python/')\n",
    "import caffe\n",
    "caffe.set_device(0)\n",
    "caffe.set_mode_gpu()\n",
    "import Caffe\n",
    "import Resize\n",
    "import Pad\n",
    "import PIL\n",
    "import Classification\n",
    "import glob\n",
    "\n",
    "import matplotlib\n",
    "%matplotlib inline  \n",
    "import matplotlib.pyplot as plt\n",
    "import Dataset\n",
    "import Evaluation\n",
    "import ImageReader\n",
    "import Crop\n",
    "import MulticlassSVM\n",
    "import Classificator\n",
    "import sklearn\n",
    "import Lambda\n",
    "import subprocess\n",
    "import Blob"
   ]
  },
  {
   "cell_type": "code",
   "execution_count": null,
   "metadata": {
    "collapsed": false
   },
   "outputs": [],
   "source": [
    "basedir = '/home/simon/Research/generic/results/2016-09-12_bilinear_pairwise_matching/dataset/'\n",
    "#basedir = '/home/simon/Datasets/CUB_200_2011/'\n",
    "d = Dataset.Dataset()\n",
    "d.read_from_file('%s/imagelist.txt'%basedir, 'imagepaths','string')\n",
    "d.read_from_file('%s/labels.txt'%basedir,'labels','int')\n",
    "d.read_from_file('%s/tr_ID.txt'%basedir,'split_assignments','int')"
   ]
  },
  {
   "cell_type": "code",
   "execution_count": null,
   "metadata": {
    "collapsed": true
   },
   "outputs": [],
   "source": [
    "def trilinear(x):\n",
    "    x = x.reshape((512,-1))\n",
    "    return x.dot(x.T).dot(x).reshape((512,28,28))"
   ]
  },
  {
   "cell_type": "code",
   "execution_count": null,
   "metadata": {
    "collapsed": true
   },
   "outputs": [],
   "source": [
    "def bilinear(x):\n",
    "    x = x.reshape((512,-1))\n",
    "    return x.dot(x.T)"
   ]
  },
  {
   "cell_type": "code",
   "execution_count": null,
   "metadata": {
    "collapsed": true
   },
   "outputs": [],
   "source": [
    "from IAlgorithm import IAlgorithm\n",
    "class FlipAugmentation(IAlgorithm):\n",
    "    def _train(self, blob_generator):\n",
    "        for blob in blob_generator:\n",
    "            b = Blob.Blob()\n",
    "            b.meta = blob.meta\n",
    "            b.data = blob.data\n",
    "            yield b\n",
    "            \n",
    "            b = Blob.Blob()\n",
    "            b.meta = blob.meta\n",
    "            b.data = np.fliplr(blob.data)\n",
    "            yield b\n",
    "            \n",
    "    def _compute(self, blob_generator):\n",
    "        for blob in blob_generator:\n",
    "            yield blob"
   ]
  },
  {
   "cell_type": "code",
   "execution_count": null,
   "metadata": {
    "collapsed": false
   },
   "outputs": [],
   "source": [
    "c = Classification.Classification()\n",
    "c.add_algorithm(ImageReader.ImageReader())\n",
    "c.add_algorithm(Resize.Resize((448,), mode='resize_smaller_side'))\n",
    "c.add_algorithm(Crop.Crop((448,448),'center'))\n",
    "#c.add_algorithm(Resize.Resize((448,448), mode='stretch'))\n",
    "#c.add_algorithm(FlipAugmentation())\n",
    "#c.add_algorithm(Pad.Pad(227,227))\n",
    "modeldir = '//home/simon/Data/caffe/vgg16/cub200_bilinear//'\n",
    "#modeldir = '/home/simon/Research/generic/results/2016-07-01_cnn_imagenet_training/alexnet-visualization-nofc/alexnet_vis_nofc_imagenet/'\n",
    "#modeldir = '/home/simon/Research/generic/results/2016-07-01_cnn_imagenet_training/alexnet-bn/alexnet_nofinegrained_allbn/'\n",
    "subprocess.check_call(['touch',modeldir + '/deploy.prototxt'])\n",
    "c.add_algorithm(Caffe.Caffe(modeldir + '/deploy.prototxt',\n",
    "                           modeldir + '/model',\n",
    "                           #mean = np.float32([0,0,0]),\n",
    "                           outblob = 'bilinear_l2',\n",
    "                           batchsize = 5))\n",
    "#c.add_algorithm(Lambda.Lambda(lambda x: trilinear(x)))\n",
    "#c.add_algorithm(Lambda.Lambda(lambda x: x.mean(axis=(1,2))))\n",
    "#c.add_algorithm(Lambda.Lambda(lambda x: x/np.sqrt((x.ravel()**2).sum())))\n",
    "c.add_algorithm(Classificator.Classificator(sklearn.svm.LinearSVC(C=1)))\n",
    "#c.add_algorithm(Classificator.Classificator(sklearn.svm.SVC(C=1.0, kernel='linear', degree=2)))"
   ]
  },
  {
   "cell_type": "code",
   "execution_count": null,
   "metadata": {
    "collapsed": false,
    "scrolled": false
   },
   "outputs": [],
   "source": [
    "ev = Evaluation.Evaluation()\n",
    "ev.fixed_split_eval(d, c)"
   ]
  },
  {
   "cell_type": "code",
   "execution_count": null,
   "metadata": {
    "collapsed": true
   },
   "outputs": [],
   "source": []
  },
  {
   "cell_type": "code",
   "execution_count": null,
   "metadata": {
    "collapsed": false
   },
   "outputs": [],
   "source": [
    "np.hstack(c.compute_all([im for im,s in zip(d.imagepaths,d.split_assignments) if s==1]))==np.array([l for l,s in zip(d.labels,d.split_assignments) if s==1])"
   ]
  },
  {
   "cell_type": "markdown",
   "metadata": {
    "collapsed": true
   },
   "source": [
    "### CUB200 2011\n",
    "Bilinear l2 alexnet (0.59837763203313776, 0.60197659494092859)\n",
    "\n",
    "Trilinear 8192 (0.58474283741801869, 0.58805479109517222)\n",
    "\n",
    "Quadlinear 512 (0.52813255091473943, 0.53082733856751463) 8192 (0.53693476009665175, 0.54000831986618703)"
   ]
  },
  {
   "cell_type": "code",
   "execution_count": null,
   "metadata": {
    "collapsed": true
   },
   "outputs": [],
   "source": []
  },
  {
   "cell_type": "code",
   "execution_count": null,
   "metadata": {
    "collapsed": true
   },
   "outputs": [],
   "source": []
  },
  {
   "cell_type": "code",
   "execution_count": null,
   "metadata": {
    "collapsed": true
   },
   "outputs": [],
   "source": []
  },
  {
   "cell_type": "code",
   "execution_count": null,
   "metadata": {
    "collapsed": true
   },
   "outputs": [],
   "source": []
  },
  {
   "cell_type": "code",
   "execution_count": null,
   "metadata": {
    "collapsed": false
   },
   "outputs": [],
   "source": [
    "test_images = [im for im,split in zip(d.imagepaths,d.split_assignments) if split==0]\n",
    "test_labels = [label for label,split in zip(d.labels,d.split_assignments) if split==0]"
   ]
  },
  {
   "cell_type": "code",
   "execution_count": null,
   "metadata": {
    "collapsed": true
   },
   "outputs": [],
   "source": [
    "predictions = c.compute_all(test_images)"
   ]
  },
  {
   "cell_type": "code",
   "execution_count": null,
   "metadata": {
    "collapsed": false
   },
   "outputs": [],
   "source": [
    "np.savetxt('/home/simon/Research/finegrained/results/2016-09-02_single_pose_dataset/cub200_2011/vgg16_bilinear_pred/results.txt',np.vstack(predictions).astype(int),fmt='%i')"
   ]
  },
  {
   "cell_type": "code",
   "execution_count": null,
   "metadata": {
    "collapsed": true
   },
   "outputs": [],
   "source": []
  }
 ],
 "metadata": {
  "anaconda-cloud": {},
  "kernelspec": {
   "display_name": "Python [default]",
   "language": "python",
   "name": "python3"
  },
  "language_info": {
   "codemirror_mode": {
    "name": "ipython",
    "version": 3
   },
   "file_extension": ".py",
   "mimetype": "text/x-python",
   "name": "python",
   "nbconvert_exporter": "python",
   "pygments_lexer": "ipython3",
   "version": "3.5.2"
  }
 },
 "nbformat": 4,
 "nbformat_minor": 0
}
